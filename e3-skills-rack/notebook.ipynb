{
 "cells": [
  {
   "attachments": {},
   "cell_type": "markdown",
   "metadata": {},
   "source": [
    "\n",
    "---\n",
    "\n",
    "### Reminder: This 📘 `Python` notebook can be run from VS Code with [these prerequisites](../PREREQS.md)."
   ]
  },
  {
   "attachments": {},
   "cell_type": "markdown",
   "metadata": {},
   "source": [
    "\n",
    "#### How to use this notebook: \n",
    "\n",
    "* Just read the text and scroll along until you run into code blocks.\n",
    "* Code blocks have computer code inside them — hover over the block and you can run the code.\n",
    "* Run the code by hitting the ▶️ \"play\" button to the left. If the code runs you'll see a ✔️. If not, you'll get a ❌.\n",
    "* The output and status of the code block will appear just below itself — you need to scroll down further to see it.\n",
    "* Sometimes a code block will ask you for input in a hard-to-notice dialog box 👆 at the top of your notebook window. \n",
    "\n",
    "---"
   ]
  },
  {
   "attachments": {},
   "cell_type": "markdown",
   "metadata": {},
   "source": [
    "# Recipe III: 🧂 Skills Rack\n",
    "## 🧑‍🍳 Learn how skills are used as reusable modules\n",
    "\n",
    "One of the ways that Semantic Kernel shines is the way you can easily reuse semantic functions. There's a simple folder structure we use that's described in greater detail [here](https://learn.microsoft.com/en-us/semantic-kernel/howto/semanticfunctions), but let's do a quick review of how Semantic Skills and Semantic Functions can be stored as conventional files.\n",
    "\n",
    "In a nutshell, just remember that a skill is a folder of functions. And each function contains an `skprompt.txt` definition.\n",
    "\n",
    "```\n",
    "📁 SKILL\n",
    "│\n",
    "└─── 📂 FUNCTION\n",
    "     |\n",
    "     └─── 📄 skprompt.txt\n",
    "```"
   ]
  },
  {
   "attachments": {},
   "cell_type": "markdown",
   "metadata": {},
   "source": [
    "## Fun Fact 1. 🧂 Semantic functions are 📄 text files\n",
    "\n",
    "Multiple semantic functions can be shared as text files within enclosing folders to be packaged within a skill folder. This can be a little confusing, but there are skills and there are functions. Skills are like the biological genus (i.e. larger grouping) and functions are like the biological species (i.e the sub-genus).\n",
    "\n",
    "```\n",
    "📁 A-Skill\n",
    "│\n",
    "└─── 📂 A-Function\n",
    "|    |\n",
    "│    └─── 📄 skprompt.txt\n",
    "│   \n",
    "└─── 📂 Another-Function\n",
    "     |\n",
    "     └─── 📄 skprompt.txt\n",
    "```\n",
    "The format of the `config.json` file is [here](https://learn.microsoft.com/en-us/semantic-kernel/howto/configuringfunctions) but if its not included, a default behavior will be used.\n",
    "\n",
    "## Fun Fact 2. 🧂 Semantic skills are 📁 folders of 📂 functions\n",
    "\n",
    "Semantic functions go inside semantic skill directories. Semantic skills will be placed inside a directory called `skills.` The way you access a semantic function is through the name of the skill. Like `A-Skill.A-Function` or `A-Skill.Another-Function.` \n",
    "\n",
    "```\n",
    "🗂️ skills\n",
    "│\n",
    "└─── 📁 A-Skill\n",
    "│    └─── 📂 A-Function \n",
    "│    └─── 📂 Another-Function   \n",
    "│\n",
    "└─── 📁 B-Skill\n",
    "│    └─── 📂 Function-B1   \n",
    "│    └─── 📂 Function-B2   \n",
    "│\n",
    "└─── 📁 C-Skill\n",
    "     └─── 📂 Function-C1   \n",
    "\n",
    "```\n",
    "\n",
    "For this notebook, there are a few semantic skills available in the `skills` directory for you to check out. Keep the following hierarchy in mind:\n",
    "\n",
    "```\n",
    "Main `/skills` directory > semantic SKILLs > semantic functions within each SKILL\n",
    "```"
   ]
  },
  {
   "attachments": {},
   "cell_type": "markdown",
   "metadata": {},
   "source": [
    "## Step 1: Get started by instantiating a 🔥 kernel\n",
    "\n",
    "You've already set up your API key information, so this should be an easy ▶️ (play) and you're good to go."
   ]
  },
  {
   "cell_type": "code",
   "execution_count": null,
   "metadata": {
    "dotnet_interactive": {
     "language": "csharp"
    },
    "polyglot_notebook": {
     "kernelName": "csharp"
    }
   },
   "outputs": [],
   "source": [
    "!python -m pip install semantic-kernel==0.3.3.dev"
   ]
  },
  {
   "cell_type": "code",
   "execution_count": 3,
   "metadata": {
    "dotnet_interactive": {
     "language": "csharp"
    },
    "polyglot_notebook": {
     "kernelName": "csharp"
    }
   },
   "outputs": [],
   "source": [
    "import semantic_kernel as sk\n",
    "from semantic_kernel.connectors.ai.open_ai import AzureTextCompletion, OpenAITextCompletion\n",
    "\n",
    "kernel = sk.Kernel()\n",
    "\n",
    "useAzureOpenAI = False\n",
    "\n",
    "# Configure AI service used by the kernel\n",
    "if useAzureOpenAI:\n",
    "    deployment, api_key, endpoint = sk.azure_openai_settings_from_dot_env()\n",
    "    kernel.add_text_completion_service(\"dv\", AzureTextCompletion(deployment, endpoint, api_key))\n",
    "else:\n",
    "    api_key, org_id = sk.openai_settings_from_dot_env()\n",
    "    kernel.add_text_completion_service(\"dv\", OpenAITextCompletion(\"text-davinci-003\", api_key, org_id))"
   ]
  },
  {
   "attachments": {},
   "cell_type": "markdown",
   "metadata": {},
   "source": [
    "😱 **Get an error message?** The [first notebook](../s1e1-ez-starter-notebook/notebook.ipynb) walks you through this process so you should be all set. But if you're still stuck, go to https://aka.ms/sk/discord where we have realtime support."
   ]
  },
  {
   "attachments": {},
   "cell_type": "markdown",
   "metadata": {},
   "source": [
    "## Step 2: 🧂 Access a semantic 📂 function from its skill 📁 folder\n",
    "\n",
    "We will be using the `Joke` semantic function that is accessible within the `FunSkill` subdirectory of `skills.` This function can be referred to as `FunSkill.Joke` to denote how the function `Joke` is within `FunSkill.`\n",
    "\n",
    "```\n",
    "🗂️ skills\n",
    "│\n",
    "└─── 📁 FunSkill\n",
    "|    |\n",
    "│    └─── 📂 Joke\n",
    "│    └─── 📂 Limerick\n",
    "│    └─── 📂 Excuses\n",
    "│\n",
    "└─── 📁 ChatSkill\n",
    "```\n",
    "\n",
    "### Step 2.1: 🧂 Tell me a funny using the semantic function `FunSkill.Joke` \n",
    "\n",
    "And with that, let's get the LLM AI to tell us a quick 😂 joke."
   ]
  },
  {
   "cell_type": "code",
   "execution_count": 4,
   "metadata": {
    "dotnet_interactive": {
     "language": "csharp"
    },
    "polyglot_notebook": {
     "kernelName": "csharp"
    }
   },
   "outputs": [
    {
     "name": "stdout",
     "output_type": "stream",
     "text": [
      "\n",
      "Q: What did the time traveler say when they arrived in the dinosaur age?\n",
      "A: \"I think I'm a little out of my time period!\"\n"
     ]
    }
   ],
   "source": [
    "# Load the Skills Directory\n",
    "skills_directory = \"./skills\"\n",
    "\n",
    "# Load the FunSkill from the Skills Directory\n",
    "mySkill = kernel.import_semantic_skill_from_directory(skills_directory, \"FunSkill\")\n",
    "\n",
    "# The default input variable \n",
    "myInput = \"time travel to dinosaur age\"\n",
    "\n",
    "joke_function = mySkill[\"Joke\"]\n",
    "\n",
    "# Run the Function called Joke with the default parameter of $input\n",
    "result = joke_function(myInput)\n",
    "\n",
    "# Return the result to the Notebook\n",
    "print(result)"
   ]
  },
  {
   "attachments": {},
   "cell_type": "markdown",
   "metadata": {},
   "source": [
    "### Step 2.2: 🧂 Provide multiple inputs to a semantic function\n",
    "\n",
    "There are actually two parameters that are used by `FunSkill.Joke`. One is `$input` and the other is `$audience_type`. We can deliver this broader context to the semantic function by assigning the `ContextVariables`, and then run the semantic function again with the broader context that's provided than just a single `$input`:"
   ]
  },
  {
   "cell_type": "code",
   "execution_count": 7,
   "metadata": {
    "dotnet_interactive": {
     "language": "csharp"
    },
    "polyglot_notebook": {
     "kernelName": "csharp"
    }
   },
   "outputs": [
    {
     "name": "stdout",
     "output_type": "stream",
     "text": [
      "\n",
      "Q: What did the snobby shopper say when they went to the department store?\n",
      "A: \"I'm not shopping here, I'm browsing the selection!\"\n"
     ]
    }
   ],
   "source": [
    "# Reload the FunSkill from the Skills Directory in case you are changing it for fun\n",
    "mySkill = kernel.import_semantic_skill_from_directory(skills_directory, \"FunSkill\");\n",
    "\n",
    "# THIS IS NEW!\n",
    "myContext = kernel.create_new_context()\n",
    "\n",
    "# The variables are manually set when you use a ContextVariables object\n",
    "myContext[\"input\"] = \"going to the department store\"\n",
    "myContext[\"audience_type\"] = \"snobby people\"\n",
    "\n",
    "myResult = await kernel.run_async(mySkill[\"Joke\"], input_context=myContext)\n",
    "\n",
    "print(str(myResult))"
   ]
  },
  {
   "attachments": {},
   "cell_type": "markdown",
   "metadata": {},
   "source": [
    "\n",
    "### Step 2.3: 🧂 Every semantic function doesn't need to use `$input`\n",
    "\n",
    "Using the default `$input` named context variable is optional. For example, `FunSkill.Limerick` has two context variables `$name` and `$whoisname` to be used as follows:"
   ]
  },
  {
   "cell_type": "code",
   "execution_count": 10,
   "metadata": {
    "dotnet_interactive": {
     "language": "csharp"
    },
    "polyglot_notebook": {
     "kernelName": "csharp"
    }
   },
   "outputs": [
    {
     "name": "stdout",
     "output_type": "stream",
     "text": [
      "\n",
      "There once was a scientist named Marie,\n",
      "Whose experiments gave her glee.\n",
      "She split atoms with ease,\n",
      "And won two Nobel Prizes,\n",
      "But still couldn't find the remote for the TV.\n"
     ]
    }
   ],
   "source": [
    "# Load the Limerick function from the FunSkill\n",
    "\n",
    "mySkill = kernel.import_semantic_skill_from_directory(skills_directory, \"FunSkill\")\n",
    "\n",
    "myContext = kernel.create_new_context()\n",
    "myContext[\"name\"] = \"Marie Curie\"\n",
    "myContext[\"who_is_name\"] = \"the great scientist\" \n",
    "\n",
    "myResult = await kernel.run_async(mySkill[\"Limerick\"], input_context=myContext)\n",
    "\n",
    "print(str(myResult))"
   ]
  },
  {
   "attachments": {},
   "cell_type": "markdown",
   "metadata": {},
   "source": [
    "# ⏭️ Next Steps\n",
    "\n",
    "Run through more advanced examples in the notebooks that are available in our GitHub repo at [https://aka.ms/sk/repo](https://aka.ms/sk/repo).\n",
    "\n",
    "[Learn about 🥑 memories!](../e4-memories/notebook.ipynb)\n",
    "\n",
    "Or stay a longer while and change the `config.json` files to see how the different semantic functions behave. Or completely rewrite one of the functions that's been made available."
   ]
  }
 ],
 "metadata": {
  "kernelspec": {
   "display_name": "Python 3 (ipykernel)",
   "language": "python",
   "name": "python3"
  },
  "language_info": {
   "codemirror_mode": {
    "name": "ipython",
    "version": 3
   },
   "file_extension": ".py",
   "mimetype": "text/x-python",
   "name": "python",
   "nbconvert_exporter": "python",
   "pygments_lexer": "ipython3",
   "version": "3.10.11"
  },
  "polyglot_notebook": {
   "kernelInfo": {
    "defaultKernelName": "csharp",
    "items": [
     {
      "aliases": [],
      "languageName": "csharp",
      "name": "csharp"
     }
    ]
   }
  }
 },
 "nbformat": 4,
 "nbformat_minor": 2
}
